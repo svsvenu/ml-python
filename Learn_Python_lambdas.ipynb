{
  "nbformat": 4,
  "nbformat_minor": 0,
  "metadata": {
    "colab": {
      "provenance": [],
      "authorship_tag": "ABX9TyNrZFIm9Fh8wF5/EXxt6jde",
      "include_colab_link": true
    },
    "kernelspec": {
      "name": "python3",
      "display_name": "Python 3"
    },
    "language_info": {
      "name": "python"
    }
  },
  "cells": [
    {
      "cell_type": "markdown",
      "metadata": {
        "id": "view-in-github",
        "colab_type": "text"
      },
      "source": [
        "<a href=\"https://colab.research.google.com/github/svsvenu/ml-python/blob/main/Learn_Python_lambdas.ipynb\" target=\"_parent\"><img src=\"https://colab.research.google.com/assets/colab-badge.svg\" alt=\"Open In Colab\"/></a>"
      ]
    },
    {
      "cell_type": "code",
      "execution_count": null,
      "metadata": {
        "colab": {
          "base_uri": "https://localhost:8080/"
        },
        "id": "vxEpr_f70dxq",
        "outputId": "a0346054-5598-4ddd-da1e-aa9772ab5598"
      },
      "outputs": [
        {
          "output_type": "stream",
          "name": "stdout",
          "text": [
            "20\n"
          ]
        }
      ],
      "source": [
        "# simple lambda\n",
        "x = lambda a : a + 10\n",
        "print (x(10))"
      ]
    },
    {
      "cell_type": "code",
      "source": [
        "# Function that returns a lambda\n",
        "def returnMultiplier(n):\n",
        "  return lambda a : a *n;\n",
        "\n",
        "doubler = returnMultiplier(2)\n",
        "trippler = returnMultiplier(3)\n",
        "\n",
        "print ( doubler (2))\n",
        "print ( trippler (2))\n"
      ],
      "metadata": {
        "colab": {
          "base_uri": "https://localhost:8080/"
        },
        "id": "hA2b8w4_NtXx",
        "outputId": "10b38265-0b7a-4056-8db0-8ae3ab07ede0"
      },
      "execution_count": null,
      "outputs": [
        {
          "output_type": "stream",
          "name": "stdout",
          "text": [
            "4\n",
            "6\n"
          ]
        }
      ]
    },
    {
      "cell_type": "code",
      "source": [
        "# Lamdas as list comprehension\n",
        "x = lambda x : x*2\n",
        "intList = list (range(20))\n",
        "func = lambda x : x**2\n",
        "print (intList)\n",
        "squaredIntList = [func(x) for x in intList]\n",
        "print (squaredIntList)"
      ],
      "metadata": {
        "id": "QLI8IRyRkmMK",
        "colab": {
          "base_uri": "https://localhost:8080/"
        },
        "outputId": "05495caf-609d-45ff-bd6e-aef1e9e85892"
      },
      "execution_count": 10,
      "outputs": [
        {
          "output_type": "stream",
          "name": "stdout",
          "text": [
            "[0, 1, 2, 3, 4, 5, 6, 7, 8, 9, 10, 11, 12, 13, 14, 15, 16, 17, 18, 19]\n",
            "[0, 1, 4, 9, 16, 25, 36, 49, 64, 81, 100, 121, 144, 169, 196, 225, 256, 289, 324, 361]\n"
          ]
        }
      ]
    }
  ]
}