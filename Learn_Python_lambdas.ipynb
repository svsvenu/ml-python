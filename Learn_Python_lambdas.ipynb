{
  "nbformat": 4,
  "nbformat_minor": 0,
  "metadata": {
    "colab": {
      "provenance": [],
      "authorship_tag": "ABX9TyO0L7vnjotYD/cT2RurCuAu",
      "include_colab_link": true
    },
    "kernelspec": {
      "name": "python3",
      "display_name": "Python 3"
    },
    "language_info": {
      "name": "python"
    }
  },
  "cells": [
    {
      "cell_type": "markdown",
      "metadata": {
        "id": "view-in-github",
        "colab_type": "text"
      },
      "source": [
        "<a href=\"https://colab.research.google.com/github/svsvenu/ml-python/blob/main/Learn_Python_lambdas.ipynb\" target=\"_parent\"><img src=\"https://colab.research.google.com/assets/colab-badge.svg\" alt=\"Open In Colab\"/></a>"
      ]
    },
    {
      "cell_type": "code",
      "execution_count": 3,
      "metadata": {
        "colab": {
          "base_uri": "https://localhost:8080/"
        },
        "id": "vxEpr_f70dxq",
        "outputId": "a0346054-5598-4ddd-da1e-aa9772ab5598"
      },
      "outputs": [
        {
          "output_type": "stream",
          "name": "stdout",
          "text": [
            "20\n"
          ]
        }
      ],
      "source": [
        "# simple lambda\n",
        "x = lambda a : a + 10\n",
        "print (x(10))"
      ]
    },
    {
      "cell_type": "code",
      "source": [
        "# Function that returns a lambda\n",
        "def returnMultiplier(n):\n",
        "  return lambda a : a *n;\n",
        "\n",
        "doubler = returnMultiplier(2)\n",
        "trippler = returnMultiplier(3)\n",
        "\n",
        "print ( doubler (2))\n",
        "print ( trippler (2))\n"
      ],
      "metadata": {
        "colab": {
          "base_uri": "https://localhost:8080/"
        },
        "id": "hA2b8w4_NtXx",
        "outputId": "10b38265-0b7a-4056-8db0-8ae3ab07ede0"
      },
      "execution_count": 4,
      "outputs": [
        {
          "output_type": "stream",
          "name": "stdout",
          "text": [
            "4\n",
            "6\n"
          ]
        }
      ]
    },
    {
      "cell_type": "code",
      "source": [],
      "metadata": {
        "id": "QLI8IRyRkmMK"
      },
      "execution_count": null,
      "outputs": []
    }
  ]
}