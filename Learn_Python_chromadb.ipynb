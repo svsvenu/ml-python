{
  "nbformat": 4,
  "nbformat_minor": 0,
  "metadata": {
    "colab": {
      "provenance": [],
      "authorship_tag": "ABX9TyMjZAH+IkgiB7Dn+8xRnETw",
      "include_colab_link": true
    },
    "kernelspec": {
      "name": "python3",
      "display_name": "Python 3"
    },
    "language_info": {
      "name": "python"
    }
  },
  "cells": [
    {
      "cell_type": "markdown",
      "metadata": {
        "id": "view-in-github",
        "colab_type": "text"
      },
      "source": [
        "<a href=\"https://colab.research.google.com/github/svsvenu/ml-python/blob/main/Learn_Python_chromadb.ipynb\" target=\"_parent\"><img src=\"https://colab.research.google.com/assets/colab-badge.svg\" alt=\"Open In Colab\"/></a>"
      ]
    },
    {
      "cell_type": "markdown",
      "source": [],
      "metadata": {
        "id": "v1gd772MHhtn"
      }
    },
    {
      "cell_type": "code",
      "execution_count": null,
      "metadata": {
        "id": "T1AsZpxOHNo7"
      },
      "outputs": [],
      "source": [
        "pip install langchain-community langchain-core  chromadb PyPDF2 numpy matplotlib"
      ]
    },
    {
      "cell_type": "markdown",
      "source": [],
      "metadata": {
        "id": "MkWWUT6tHhUD"
      }
    },
    {
      "cell_type": "code",
      "source": [
        "import PyPDF2\n",
        "import chromadb\n",
        "from langchain.text_splitter import RecursiveCharacterTextSplitter\n",
        "from langchain.embeddings import HuggingFaceEmbeddings\n",
        "import os\n",
        "\n",
        "def pdf_to_text(file_path):\n",
        "    pdf_file = open(file_path, 'rb')\n",
        "    pdf_reader = PyPDF2.PdfReader(pdf_file)\n",
        "    text = \"\"\n",
        "    for page_num in range( len(pdf_reader.pages)):\n",
        "        text += pdf_reader.pages[page_num].extract_text()\n",
        "    pdf_file.close()\n",
        "    return text\n",
        "\n",
        "text_splitter = RecursiveCharacterTextSplitter(chunk_size=1000, chunk_overlap=100)\n",
        "embeddings = HuggingFaceEmbeddings(model_name=\"BAAI/bge-large-en-v1.5\")\n",
        "\n",
        "client = chromadb.Client()\n",
        "\n",
        "collection = client.get_or_create_collection(name=\"test7_collection\")\n",
        "\n",
        "print (os.getcwd())\n",
        "\n",
        "for filename in os.listdir('./data'):\n",
        "    if filename.endswith('.pdf'):\n",
        "        # Convert PDF to text\n",
        "        text = pdf_to_text(os.path.join('./data', filename))\n",
        "\n",
        "        # Split text into chunks\n",
        "        chunks = text_splitter.split_text(text)\n",
        "\n",
        "        # Convert chunks to vector representations and store in Chroma DB\n",
        "        documents_list = []\n",
        "        embeddings_list = []\n",
        "        ids_list = []\n",
        "\n",
        "        for i, chunk in enumerate(chunks):\n",
        "            vector = embeddings.embed_query(chunk)\n",
        "\n",
        "            documents_list.append(chunk)\n",
        "            embeddings_list.append(vector)\n",
        "            ids_list.append(f\"{filename}_{i}\")\n",
        "\n",
        "\n",
        "        collection.add(\n",
        "            embeddings=embeddings_list,\n",
        "            documents=documents_list,\n",
        "            ids=ids_list\n",
        "        )\n",
        "\n",
        "query = input(\"Enter your query: \")\n",
        "\n",
        "# Convert query to vector representation\n",
        "query_vector = embeddings.embed_query(query)\n",
        "\n",
        "# Query Chroma DB with the vector representation\n",
        "results = collection.query(query_embeddings=query_vector, n_results=2 , include=[\"documents\"])\n",
        "\n",
        "# Print results\n",
        "for result in results[\"documents\"]:\n",
        "    for i in result:\n",
        "        print(i)\n",
        "\n"
      ],
      "metadata": {
        "id": "ciUVixVxwiws",
        "colab": {
          "base_uri": "https://localhost:8080/"
        },
        "outputId": "450c8479-a609-4919-b9f1-81acebc8893b"
      },
      "execution_count": null,
      "outputs": [
        {
          "output_type": "stream",
          "name": "stdout",
          "text": [
            "/content\n"
          ]
        },
        {
          "output_type": "stream",
          "name": "stderr",
          "text": [
            "WARNING:chromadb.segment.impl.vector.local_hnsw:Add of existing embedding ID: Attachment-1.pdf_0\n",
            "WARNING:chromadb.segment.impl.vector.local_hnsw:Add of existing embedding ID: Attachment-1.pdf_1\n",
            "WARNING:chromadb.segment.impl.vector.local_hnsw:Add of existing embedding ID: Attachment-1.pdf_2\n",
            "WARNING:chromadb.segment.impl.vector.local_hnsw:Add of existing embedding ID: Attachment-1.pdf_3\n",
            "WARNING:chromadb.segment.impl.vector.local_hnsw:Add of existing embedding ID: Attachment-1.pdf_4\n",
            "WARNING:chromadb.segment.impl.vector.local_hnsw:Add of existing embedding ID: Attachment-1.pdf_5\n",
            "WARNING:chromadb.segment.impl.vector.local_hnsw:Add of existing embedding ID: Attachment-1.pdf_6\n",
            "WARNING:chromadb.segment.impl.vector.local_hnsw:Add of existing embedding ID: Attachment-1.pdf_7\n",
            "WARNING:chromadb.segment.impl.vector.local_hnsw:Add of existing embedding ID: Attachment-1.pdf_8\n",
            "WARNING:chromadb.segment.impl.vector.local_hnsw:Add of existing embedding ID: Attachment-1.pdf_9\n",
            "WARNING:chromadb.segment.impl.vector.local_hnsw:Add of existing embedding ID: Attachment-1.pdf_10\n",
            "WARNING:chromadb.segment.impl.metadata.sqlite:Insert of existing embedding ID: Attachment-1.pdf_0\n",
            "WARNING:chromadb.segment.impl.metadata.sqlite:Insert of existing embedding ID: Attachment-1.pdf_1\n",
            "WARNING:chromadb.segment.impl.metadata.sqlite:Insert of existing embedding ID: Attachment-1.pdf_2\n",
            "WARNING:chromadb.segment.impl.metadata.sqlite:Insert of existing embedding ID: Attachment-1.pdf_3\n",
            "WARNING:chromadb.segment.impl.metadata.sqlite:Insert of existing embedding ID: Attachment-1.pdf_4\n",
            "WARNING:chromadb.segment.impl.metadata.sqlite:Insert of existing embedding ID: Attachment-1.pdf_5\n",
            "WARNING:chromadb.segment.impl.metadata.sqlite:Insert of existing embedding ID: Attachment-1.pdf_6\n",
            "WARNING:chromadb.segment.impl.metadata.sqlite:Insert of existing embedding ID: Attachment-1.pdf_7\n",
            "WARNING:chromadb.segment.impl.metadata.sqlite:Insert of existing embedding ID: Attachment-1.pdf_8\n",
            "WARNING:chromadb.segment.impl.metadata.sqlite:Insert of existing embedding ID: Attachment-1.pdf_9\n",
            "WARNING:chromadb.segment.impl.metadata.sqlite:Insert of existing embedding ID: Attachment-1.pdf_10\n"
          ]
        },
        {
          "output_type": "stream",
          "name": "stdout",
          "text": [
            "Enter your query: test\n",
            "allowances vary by fare type and class of travel. Check your baggage allowance, however please note that any individual item weighing more than 32kgcannot be accepted, for health and safety reasons.We welcome your compliments, comments or complaints regarding Emirates or an Emirates travel experience. You can get in touch with us (Opens a new window) to give usyour feedback.Inﬂight entertainmentFall in love with a classic romance or immerse yourself in thelatest edge-of-the-seat blockbuster - let our ice inﬂightentertainment take you to places you won't ﬁnd on a map.Choose from up to 6,500 channels of movies, TV shows andmusic from around the world and in multiple languages. Orchallenge other passengers to a range of gripping games.Hazardous materials and substance control policyThe carriage of certain hazardous materials like aerosols, ﬁreworks and inﬂammable liquids aboard the aircraft is forbidden. Personal motorised vehicles such as hoverboards,mini-Segways and smart or\n",
            "Ticket & receipt\n",
            "Your ticket is stored in our booking system. This receipt is your recordof your ticket and is part of your conditions of carriage. For moreinformation you can read the notices and conditions ofcarriage(Opens a new window).You might need to show this receipt to enter the airport or to proveyour return or onwards travel to immigration. Check with your departure airport for restrictions on the carriage ofliquids, aerosols and gels in hand baggage and check your visarequirements.Please check our Dangerous Goods information(Opens a newwindow) to ﬁnd out what you can and can’t bring on board. Somesubstances and certain items are restricted, like portable electronicdevices, spare batteries or smart bags.Your booking reference: G2C4TS\n",
            "Ticket number: 176 2383898096Scan the bar code or use the ticket number above at theself check-in points in the airport.\n"
          ]
        }
      ]
    }
  ]
}